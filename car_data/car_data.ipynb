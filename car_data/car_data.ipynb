{
 "cells": [
  {
   "cell_type": "markdown",
   "id": "c2f24fc0",
   "metadata": {},
   "source": [
    "# Vehicle Data Analysis\n",
    "This notebook analyzes vehicle data to answer various questions."
   ]
  },
  {
   "cell_type": "code",
   "execution_count": null,
   "id": "8a56497a",
   "metadata": {},
   "outputs": [],
   "source": [
    "import pandas as pd\n",
    "\n",
    "# Load the dataset\n",
    "df = pd.read_csv(\"car.csv\")"
   ]
  },
  {
   "cell_type": "markdown",
   "id": "2bc8ce79",
   "metadata": {},
   "source": [
    "## Question 1: Manufacturing year range"
   ]
  },
  {
   "cell_type": "code",
   "execution_count": null,
   "id": "5f55c8c3",
   "metadata": {},
   "outputs": [],
   "source": [
    "manufacturing_year_min = df[\"Year\"].min()\n",
    "manufacturing_year_max = df[\"Year\"].max()\n",
    "print(f\"Vehicles are present from manufacturing year {manufacturing_year_min} to {manufacturing_year_max}.\")"
   ]
  },
  {
   "cell_type": "markdown",
   "id": "6875f19f",
   "metadata": {},
   "source": [
    "## Question 2: Lowest price of a vehicle"
   ]
  },
  {
   "cell_type": "code",
   "execution_count": null,
   "id": "434344e7",
   "metadata": {},
   "outputs": [],
   "source": [
    "lowest_price = df[\"Selling_Price\"].min()\n",
    "print(f\"The lowest price to which a vehicle is sold is {lowest_price}.\")"
   ]
  },
  {
   "cell_type": "markdown",
   "id": "f0a8e799",
   "metadata": {},
   "source": [
    "## Question 3: Highest price of a vehicle"
   ]
  },
  {
   "cell_type": "code",
   "execution_count": null,
   "id": "bafcae51",
   "metadata": {},
   "outputs": [],
   "source": [
    "highest_price = df[\"Selling_Price\"].max()\n",
    "print(f\"The highest price to which a vehicle is sold is {highest_price}.\")"
   ]
  },
  {
   "cell_type": "markdown",
   "id": "d4cd0210",
   "metadata": {},
   "source": [
    "## Question 4: Total number of records"
   ]
  },
  {
   "cell_type": "code",
   "execution_count": null,
   "id": "e4776d7c",
   "metadata": {},
   "outputs": [],
   "source": [
    "num_records = df.shape[0]\n",
    "print(f\"There are {num_records} records in this data.\")"
   ]
  },
  {
   "cell_type": "markdown",
   "id": "2ba60ba6",
   "metadata": {},
   "source": [
    "## Question 5: Check for missing values"
   ]
  },
  {
   "cell_type": "code",
   "execution_count": null,
   "id": "1b54e7cf",
   "metadata": {},
   "outputs": [],
   "source": [
    "missing_values = df.isnull().sum().sum()\n",
    "print(f\"There are {missing_values} missing records in this data.\")"
   ]
  },
  {
   "cell_type": "markdown",
   "id": "f263a7bf",
   "metadata": {},
   "source": [
    "## Question 6: Number of different vehicles"
   ]
  },
  {
   "cell_type": "code",
   "execution_count": null,
   "id": "5940d277",
   "metadata": {},
   "outputs": [],
   "source": [
    "num_different_vehicles = df[\"Car_Name\"].nunique()\n",
    "print(f\"There are {num_different_vehicles} different vehicles in this data.\")"
   ]
  },
  {
   "cell_type": "markdown",
   "id": "86fe4269",
   "metadata": {},
   "source": [
    "## Question 7: Most sold vehicle"
   ]
  },
  {
   "cell_type": "code",
   "execution_count": null,
   "id": "fdc2be71",
   "metadata": {},
   "outputs": [],
   "source": [
    "most_sold_vehicle = df[\"Car_Name\"].value_counts().idxmax()\n",
    "print(f\"The most sold vehicle in this data is {most_sold_vehicle}.\")"
   ]
  },
  {
   "cell_type": "markdown",
   "id": "83e8aa20",
   "metadata": {},
   "source": [
    "## Question 8: Number of CNG vehicles"
   ]
  },
  {
   "cell_type": "code",
   "execution_count": null,
   "id": "984a372c",
   "metadata": {},
   "outputs": [],
   "source": [
    "num_cng_vehicles = df[df[\"Fuel_Type\"] == \"CNG\"].shape[0]\n",
    "print(f\"There are {num_cng_vehicles} CNG vehicles in this data.\")"
   ]
  },
  {
   "cell_type": "markdown",
   "id": "9184fed1",
   "metadata": {},
   "source": [
    "## Question 9: Vehicles sold by individuals directly"
   ]
  },
  {
   "cell_type": "code",
   "execution_count": null,
   "id": "0fcbabc6",
   "metadata": {},
   "outputs": [],
   "source": [
    "num_individual_sales = df[df[\"Seller_Type\"] == \"Individual\"].shape[0]\n",
    "print(f\"There are {num_individual_sales} vehicles for sale from individuals directly.\")"
   ]
  },
  {
   "cell_type": "markdown",
   "id": "f88b363d",
   "metadata": {},
   "source": [
    "## Question 10: Auto transmission vehicles"
   ]
  },
  {
   "cell_type": "code",
   "execution_count": null,
   "id": "08aa2053",
   "metadata": {},
   "outputs": [],
   "source": [
    "num_auto_transmission = df[df[\"Transmission\"] == \"Automatic\"].shape[0]\n",
    "print(f\"There are {num_auto_transmission} auto transmission vehicles in this data.\")"
   ]
  },
  {
   "cell_type": "markdown",
   "id": "ad74221a",
   "metadata": {},
   "source": [
    "## Question 11: Single-person owned vehicles"
   ]
  },
  {
   "cell_type": "code",
   "execution_count": null,
   "id": "5d6b7fd5",
   "metadata": {},
   "outputs": [],
   "source": [
    "single_owner_vehicles = df[df[\"Owner\"] == 1].shape[0]\n",
    "print(f\"There are {single_owner_vehicles} single-person owned vehicles in this database.\")"
   ]
  },
  {
   "cell_type": "markdown",
   "id": "d9cf32a1",
   "metadata": {},
   "source": [
    "## Question 12: Most and least cost depreciated vehicles"
   ]
  },
  {
   "cell_type": "code",
   "execution_count": null,
   "id": "b65d942c",
   "metadata": {},
   "outputs": [],
   "source": [
    "df[\"Depreciation\"] = df[\"Present_Price\"] - df[\"Selling_Price\"]\n",
    "most_depreciated_vehicle = df.loc[df[\"Depreciation\"].idxmax(), \"Car_Name\"]\n",
    "least_depreciated_vehicle = df.loc[df[\"Depreciation\"].idxmin(), \"Car_Name\"]\n",
    "print(f\"Most cost depreciated vehicle: {most_depreciated_vehicle}\")\n",
    "print(f\"Least cost depreciated vehicle: {least_depreciated_vehicle}\")"
   ]
  },
  {
   "cell_type": "markdown",
   "id": "9505cd17",
   "metadata": {},
   "source": [
    "## Question 13: Brands less affected by cost depreciation"
   ]
  },
  {
   "cell_type": "code",
   "execution_count": null,
   "id": "b7f2fc85",
   "metadata": {},
   "outputs": [],
   "source": [
    "df[\"Brand\"] = df[\"Car_Name\"].apply(lambda x: x.split()[0])\n",
    "brand_depreciation = df.groupby(\"Brand\")[\"Depreciation\"].mean().sort_values()\n",
    "least_affected_brands = brand_depreciation.head(5)\n",
    "print(\"Brands less affected by cost depreciation:\")\n",
    "print(least_affected_brands)"
   ]
  },
  {
   "cell_type": "markdown",
   "id": "89f8a3ab",
   "metadata": {},
   "source": [
    "## Question 14: Factors affecting cost depreciation"
   ]
  },
  {
   "cell_type": "code",
   "execution_count": null,
   "id": "38ce62de",
   "metadata": {},
   "outputs": [],
   "source": [
    "correlation = df[[\"Depreciation\", \"Year\", \"Kms_Driven\", \"Fuel_Type\", \"Seller_Type\", \"Transmission\"]].corr()\n",
    "print(\"Correlation between depreciation and other factors:\")\n",
    "print(correlation[\"Depreciation\"].sort_values(ascending=False))"
   ]
  },
  {
   "cell_type": "markdown",
   "id": "798a7f4e",
   "metadata": {},
   "source": [
    "## Question 15: Selling price affected by age and distance driven"
   ]
  },
  {
   "cell_type": "code",
   "execution_count": null,
   "id": "f43aaf37",
   "metadata": {},
   "outputs": [],
   "source": [
    "import seaborn as sns\n",
    "import matplotlib.pyplot as plt\n",
    "plt.figure(figsize=(12,5))\n",
    "sns.scatterplot(x=df[\"Year\"], y=df[\"Selling_Price\"], label=\"Year vs Selling Price\")\n",
    "sns.scatterplot(x=df[\"Kms_Driven\"], y=df[\"Selling_Price\"], label=\"Kms Driven vs Selling Price\", color='red')\n",
    "plt.legend()\n",
    "plt.show()"
   ]
  },
  {
   "cell_type": "markdown",
   "id": "f92da80b",
   "metadata": {},
   "source": [
    "## Question 16: Vehicles manufactured after 2014"
   ]
  },
  {
   "cell_type": "code",
   "execution_count": null,
   "id": "54e3ed3e",
   "metadata": {},
   "outputs": [],
   "source": [
    "new_vehicles = df[df[\"Year\"] > 2014]\n",
    "print(f\"There are {new_vehicles.shape[0]} vehicles manufactured after 2014.\")"
   ]
  },
  {
   "cell_type": "markdown",
   "id": "aa25a2d2",
   "metadata": {},
   "source": [
    "## Question 17: Filtering two-wheelers"
   ]
  },
  {
   "cell_type": "code",
   "execution_count": null,
   "id": "cb4e5aa5",
   "metadata": {},
   "outputs": [],
   "source": [
    "bike_keywords = [\"Bike\", \"Scooter\", \"Motorcycle\"]\n",
    "df_bikes = df[df[\"Car_Name\"].str.contains('|'.join(bike_keywords), case=False, na=False)]\n",
    "print(f\"There are {df_bikes.shape[0]} two-wheelers in this data.\")"
   ]
  },
  {
   "cell_type": "markdown",
   "id": "bd0a69e9",
   "metadata": {},
   "source": [
    "## Question 18: Oldest bike sold"
   ]
  },
  {
   "cell_type": "code",
   "execution_count": null,
   "id": "6c503b34",
   "metadata": {},
   "outputs": [],
   "source": [
    "oldest_bike = df_bikes[df_bikes[\"Year\"] == df_bikes[\"Year\"].min()][\"Car_Name\"].values[0]\n",
    "print(f\"The oldest bike sold here is {oldest_bike}.\")"
   ]
  },
  {
   "cell_type": "markdown",
   "id": "a6f050d3",
   "metadata": {},
   "source": [
    "## Question 19: Newest bike sold"
   ]
  },
  {
   "cell_type": "code",
   "execution_count": null,
   "id": "d83f5379",
   "metadata": {},
   "outputs": [],
   "source": [
    "newest_bike = df_bikes[df_bikes[\"Year\"] == df_bikes[\"Year\"].max()][\"Car_Name\"].values[0]\n",
    "print(f\"The newest bike sold here is {newest_bike}.\")"
   ]
  },
  {
   "cell_type": "markdown",
   "id": "693d4d87",
   "metadata": {},
   "source": [
    "## Question 20: Most sold bike"
   ]
  },
  {
   "cell_type": "code",
   "execution_count": null,
   "id": "e50caf7f",
   "metadata": {},
   "outputs": [],
   "source": [
    "most_sold_bike = df_bikes[\"Car_Name\"].value_counts().idxmax()\n",
    "print(f\"The most sold bike here is {most_sold_bike}.\")"
   ]
  },
  {
   "cell_type": "markdown",
   "id": "abea16a1",
   "metadata": {},
   "source": [
    "## Question 21: Two-wheeler deals exceeding general expectation"
   ]
  },
  {
   "cell_type": "code",
   "execution_count": null,
   "id": "3cd5e7fe",
   "metadata": {},
   "outputs": [],
   "source": [
    "outlier_bikes = df_bikes[(df_bikes[\"Selling_Price\"] > df_bikes[\"Present_Price\"] * 0.8)]\n",
    "print(f\"There are {outlier_bikes.shape[0]} two-wheeler deals that exceeded general expectations.\")\n",
    "if not outlier_bikes.empty:\n",
    "    display(outlier_bikes)"
   ]
  },
  {
   "cell_type": "markdown",
   "id": "07e3eb26",
   "metadata": {},
   "source": [
    "## Question 22: Reason for unexpected two-wheeler deals"
   ]
  },
  {
   "cell_type": "code",
   "execution_count": null,
   "id": "0e35c6e2",
   "metadata": {},
   "outputs": [],
   "source": [
    "if not outlier_bikes.empty:\n",
    "    print(\"Possible reasons:\")\n",
    "    print(\"- Low depreciation due to brand popularity\")\n",
    "    print(\"- Limited availability or high demand\")\n",
    "    print(\"- Special editions or custom modifications\")\n",
    "else:\n",
    "    print(\"No unexpected two-wheeler deals found.\")"
   ]
  },
  {
   "cell_type": "markdown",
   "id": "8ec1e73c",
   "metadata": {},
   "source": [
    "## Question 23: Filtering only cars from the data"
   ]
  },
  {
   "cell_type": "code",
   "execution_count": null,
   "id": "0d9c3f62",
   "metadata": {},
   "outputs": [],
   "source": [
    "df_cars = df[~df[\"Car_Name\"].str.contains('|'.join(bike_keywords), case=False, na=False)]\n",
    "print(f\"There are {df_cars.shape[0]} cars in this data.\")"
   ]
  },
  {
   "cell_type": "markdown",
   "id": "c8c5dbb7",
   "metadata": {},
   "source": [
    "## Question 24: Oldest car sold"
   ]
  },
  {
   "cell_type": "code",
   "execution_count": null,
   "id": "755495f4",
   "metadata": {},
   "outputs": [],
   "source": [
    "oldest_car = df_cars[df_cars[\"Year\"] == df_cars[\"Year\"].min()][\"Car_Name\"].values[0]\n",
    "print(f\"The oldest car sold here is {oldest_car}.\")"
   ]
  },
  {
   "cell_type": "markdown",
   "id": "93ccc97c",
   "metadata": {},
   "source": [
    "## Question 25: Newest car sold"
   ]
  },
  {
   "cell_type": "code",
   "execution_count": null,
   "id": "5252ea7e",
   "metadata": {},
   "outputs": [],
   "source": [
    "newest_car = df_cars[df_cars[\"Year\"] == df_cars[\"Year\"].max()][\"Car_Name\"].values[0]\n",
    "print(f\"The newest car sold here is {newest_car}.\")"
   ]
  },
  {
   "cell_type": "markdown",
   "id": "3ddaedbd",
   "metadata": {},
   "source": [
    "## Question 26: Car deals exceeding general expectation"
   ]
  },
  {
   "cell_type": "code",
   "execution_count": null,
   "id": "ab256942",
   "metadata": {},
   "outputs": [],
   "source": [
    "outlier_cars = df_cars[(df_cars[\"Selling_Price\"] > df_cars[\"Present_Price\"] * 0.8)]\n",
    "print(f\"There are {outlier_cars.shape[0]} car deals that exceeded general expectations.\")\n",
    "if not outlier_cars.empty:\n",
    "    display(outlier_cars)"
   ]
  },
  {
   "cell_type": "markdown",
   "id": "2c25ce55",
   "metadata": {},
   "source": [
    "## Question 27: Reason for unexpected car deals"
   ]
  },
  {
   "cell_type": "code",
   "execution_count": null,
   "id": "2a74e8d6",
   "metadata": {},
   "outputs": [],
   "source": [
    "if not outlier_cars.empty:\n",
    "    print(\"Possible reasons:\")\n",
    "    print(\"- Brand reputation and resale value\")\n",
    "    print(\"- Low depreciation due to premium models\")\n",
    "    print(\"- Unique features or modifications\")\n",
    "else:\n",
    "    print(\"No unexpected car deals found.\")"
   ]
  }
 ],
 "metadata": {},
 "nbformat": 4,
 "nbformat_minor": 5
}
